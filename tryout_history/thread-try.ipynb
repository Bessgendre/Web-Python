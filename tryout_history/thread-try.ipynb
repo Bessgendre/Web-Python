{
 "cells": [
  {
   "cell_type": "code",
   "execution_count": 5,
   "metadata": {},
   "outputs": [
    {
     "name": "stdout",
     "output_type": "stream",
     "text": [
      "33\n",
      "\n",
      "4\n",
      "4\n"
     ]
    }
   ],
   "source": [
    "from threading import Thread\n",
    "from time import sleep, ctime\n",
    "\n",
    "def func(name, sec):\n",
    "    print(3)\n",
    "    sleep(sec)\n",
    "    print(4)\n",
    "\n",
    "# 创建 Thread 实例v\n",
    "t1 = Thread(target=func, args=('第一个线程', 1))\n",
    "t2 = Thread(target=func, args=('第二个线程', 2))\n",
    "\n",
    "# 启动线程运行\n",
    "t1.start()\n",
    "t2.start()\n",
    "\n",
    "# 等待所有线程执行完毕\n",
    "t1.join()  # join() 等待线程终止，要不然一直挂起\n",
    "t2.join()"
   ]
  },
  {
   "cell_type": "code",
   "execution_count": 4,
   "metadata": {},
   "outputs": [
    {
     "name": "stdout",
     "output_type": "stream",
     "text": [
      "---开始--- 1 时间 Thu Apr 13 16:25:23 2023\n",
      "***结束*** 1 时间 Thu Apr 13 16:25:26 2023\n"
     ]
    }
   ],
   "source": [
    "func(1,3)"
   ]
  },
  {
   "cell_type": "code",
   "execution_count": null,
   "metadata": {},
   "outputs": [],
   "source": [
    "from threading import Thread\n",
    "\n",
    "# 从进程中获得结果，需要使用类\n",
    "def foo(number):\n",
    "    time.sleep(20)\n",
    "    return number\n",
    "\n",
    "class MyThread(Thread):\n",
    "\n",
    "    def __init__(self, number):\n",
    "        Thread.__init__(self)\n",
    "        self.number = number\n",
    "\n",
    "    def run(self):\n",
    "        self.result = foo(self.number)\n",
    "\n",
    "    def get_result(self):\n",
    "        return self.result\n",
    "\n",
    "\n",
    "thd1 = MyThread(3)\n",
    "thd2 = MyThread(5)\n",
    "thd1.start()\n",
    "thd2.start()\n",
    "thd1.join()\n",
    "thd2.join()\n",
    "\n",
    "print(thd1.get_result())\n",
    "print(thd2.get_result())"
   ]
  }
 ],
 "metadata": {
  "kernelspec": {
   "display_name": "base",
   "language": "python",
   "name": "python3"
  },
  "language_info": {
   "codemirror_mode": {
    "name": "ipython",
    "version": 3
   },
   "file_extension": ".py",
   "mimetype": "text/x-python",
   "name": "python",
   "nbconvert_exporter": "python",
   "pygments_lexer": "ipython3",
   "version": "3.9.12"
  },
  "orig_nbformat": 4
 },
 "nbformat": 4,
 "nbformat_minor": 2
}
