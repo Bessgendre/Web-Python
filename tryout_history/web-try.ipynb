{
 "cells": [
  {
   "cell_type": "code",
   "execution_count": 2,
   "id": "dff11251",
   "metadata": {},
   "outputs": [],
   "source": [
    "import requests\n",
    "import lxml\n",
    "import os\n",
    "from bs4 import BeautifulSoup"
   ]
  },
  {
   "cell_type": "code",
   "execution_count": 11,
   "id": "169d4fcb",
   "metadata": {},
   "outputs": [],
   "source": [
    "url = 'https://icourse.club/course/20920/'\n",
    "res = requests.get(url)\n",
    "res.raise_for_status()"
   ]
  },
  {
   "cell_type": "code",
   "execution_count": 12,
   "id": "52ea4fb1",
   "metadata": {},
   "outputs": [
    {
     "data": {
      "text/plain": [
       "342120"
      ]
     },
     "execution_count": 12,
     "metadata": {},
     "output_type": "execute_result"
    }
   ],
   "source": [
    "len(res.text)"
   ]
  },
  {
   "cell_type": "code",
   "execution_count": 6,
   "id": "3173f382",
   "metadata": {},
   "outputs": [],
   "source": [
    "exampleFile = open('./websource/yan.html','wb')\n",
    "for chunk in res.iter_content(100000):\n",
    "    exampleFile.write(chunk)\n",
    "exampleFile.close()"
   ]
  },
  {
   "cell_type": "code",
   "execution_count": 9,
   "id": "ea71b6ca",
   "metadata": {},
   "outputs": [],
   "source": [
    "yanhuijian = open('./websource/yan.html')\n",
    "comments = BeautifulSoup(yanhuijian)"
   ]
  }
 ],
 "metadata": {
  "kernelspec": {
   "display_name": "Python 3 (ipykernel)",
   "language": "python",
   "name": "python3"
  },
  "language_info": {
   "codemirror_mode": {
    "name": "ipython",
    "version": 3
   },
   "file_extension": ".py",
   "mimetype": "text/x-python",
   "name": "python",
   "nbconvert_exporter": "python",
   "pygments_lexer": "ipython3",
   "version": "3.9.12"
  }
 },
 "nbformat": 4,
 "nbformat_minor": 5
}
